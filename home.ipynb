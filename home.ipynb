{
 "cells": [
  {
   "cell_type": "markdown",
   "id": "43a913b3",
   "metadata": {},
   "source": [
    "# NumPy\n",
    "## Phase # 1"
   ]
  },
  {
   "cell_type": "markdown",
   "id": "3d5e7d1b-e2d6-42ff-93aa-576f619315d4",
   "metadata": {},
   "source": [
    "### Arrays\n"
   ]
  },
  {
   "cell_type": "code",
   "execution_count": null,
   "id": "18fcd4c6",
   "metadata": {},
   "outputs": [
    {
     "name": "stdout",
     "output_type": "stream",
     "text": [
      "[1 2 3 4 5 6]\n",
      "[[1 3 4 5]\n",
      " [1 3 5 6]]\n"
     ]
    }
   ],
   "source": [
    "import numpy as np\n",
    "arr_1d = np.array([1,2,3,4,5,6])\n",
    "print(arr_1d)\n",
    "\n",
    "\n",
    "arr_2d = np.array([[1,3,4,5], [1,3,5,6]])\n",
    "print(arr_2d)\n",
    "\n",
    "\n"
   ]
  },
  {
   "cell_type": "markdown",
   "id": "4e5d1c8e",
   "metadata": {},
   "source": []
  },
  {
   "cell_type": "code",
   "execution_count": null,
   "id": "1a9bd4ea",
   "metadata": {},
   "outputs": [
    {
     "name": "stdout",
     "output_type": "stream",
     "text": [
      "[1, 3, 5, 1, 3, 5]\n",
      "Num array mul:  [ 2  6 10]\n"
     ]
    }
   ],
   "source": [
    "py_list = [1, 3, 5]\n",
    "print(py_list * 2)\n",
    "\n",
    "np_array = np.array([1,3,5])\n",
    "print(\"Num array mul: \", np_array * 2) # here 2 is called scaler , in term of DS\n"
   ]
  },
  {
   "cell_type": "code",
   "execution_count": null,
   "id": "ee62242c",
   "metadata": {},
   "outputs": [
    {
     "name": "stdout",
     "output_type": "stream",
     "text": [
      "\n",
      " List operation time: 0.08052706718444824\n",
      "\n",
      " Numpy operation time: 0.0019545555114746094\n"
     ]
    }
   ],
   "source": [
    "import time\n",
    "\n",
    "start = time.time()\n",
    "py_list = [i*2 for i in range(1000000)]\n",
    "print(\"\\n List operation time:\", time.time() - start)\n",
    "\n",
    "start = time.time()\n",
    "np_array = np.arange(1000000)\n",
    "print(\"\\n Numpy operation time:\", time.time() - start) # numpy is too fast then py list"
   ]
  },
  {
   "cell_type": "code",
   "execution_count": null,
   "id": "c5393d37",
   "metadata": {},
   "outputs": [
    {
     "name": "stdout",
     "output_type": "stream",
     "text": [
      "zeros array:\n",
      " [[0. 0. 0.]\n",
      " [0. 0. 0.]\n",
      " [0. 0. 0.]]\n",
      "once array:\n",
      " [[1. 1. 1.]\n",
      " [1. 1. 1.]]\n",
      "full array:\n",
      " [[7 7 7]\n",
      " [7 7 7]]\n",
      "random array:\n",
      " [[0.35632503 0.89001508 0.25595599 0.99827046]\n",
      " [0.73814394 0.22676442 0.8978267  0.40740933]]\n",
      "sequence array:\n",
      " [ 0  2  4  6  8 10]\n"
     ]
    }
   ],
   "source": [
    "zeros = np.zeros([3, 3])\n",
    "print('zeros array:\\n', zeros)\n",
    "\n",
    "once = np.ones((2,3))\n",
    "print('once array:\\n', once)\n",
    "\n",
    "full = np.full((2,3), 7)\n",
    "print('full array:\\n', full)\n",
    "\n",
    "random = np.random.random((2,4))\n",
    "print('random array:\\n', random)\n",
    "\n",
    "sequence = np.arange(0, 11, 2) # range 0 to 10, and in b/w skip 1 if you give 2 like this np.arange(0, 11, 2)\n",
    "print('sequence array:\\n', sequence)"
   ]
  },
  {
   "cell_type": "markdown",
   "id": "08704329",
   "metadata": {},
   "source": [
    "### Vector, Matrix & Tensor\n"
   ]
  },
  {
   "cell_type": "code",
   "execution_count": 13,
   "id": "ae6c87ba",
   "metadata": {},
   "outputs": [
    {
     "name": "stdout",
     "output_type": "stream",
     "text": [
      "[1 3 4]\n",
      "[[2 3 5]\n",
      " [5 6 7]]\n",
      "[[[1 3]\n",
      "  [3 5]]\n",
      "\n",
      " [[5 3]\n",
      "  [9 5]]]\n"
     ]
    }
   ],
   "source": [
    "vector = np.array([1,3,4])\n",
    "print(vector)\n",
    "\n",
    "matrix = np.array([[2,3,5], [5,6,7]])\n",
    "print(matrix)\n",
    "\n",
    "tensor = np.array([[[1,3], [3,5]],\n",
    "                [[5,3], [9,5]]])\n",
    "print(tensor) # multi dimensional array is actual tensor\n"
   ]
  },
  {
   "cell_type": "markdown",
   "id": "b7db45f0",
   "metadata": {},
   "source": [
    "### Array properties"
   ]
  },
  {
   "cell_type": "code",
   "execution_count": 14,
   "id": "794683ab",
   "metadata": {},
   "outputs": [
    {
     "name": "stdout",
     "output_type": "stream",
     "text": [
      "Shape:  (3,)\n",
      "Dimension:  1\n",
      "Size/Length:  3\n",
      "Data types:  int64\n"
     ]
    }
   ],
   "source": [
    "arr = np.array([1,3,4])\n",
    "\n",
    "print(\"Shape: \", arr.shape)\n",
    "print(\"Dimension: \", arr.ndim)\n",
    "print(\"Size/Length: \", arr.size)\n",
    "print(\"Data types: \", arr.dtype)"
   ]
  },
  {
   "cell_type": "markdown",
   "id": "34d130b6",
   "metadata": {},
   "source": [
    "### Array Reshaping"
   ]
  },
  {
   "cell_type": "code",
   "execution_count": null,
   "id": "c7adcda3",
   "metadata": {},
   "outputs": [
    {
     "name": "stdout",
     "output_type": "stream",
     "text": [
      "Original array  [ 0  1  2  3  4  5  6  7  8  9 10 11]\n",
      "Reshaped array [[ 0  1  2  3]\n",
      " [ 4  5  6  7]\n",
      " [ 8  9 10 11]]\n",
      "\n",
      " Flattened  [ 0  1  2  3  4  5  6  7  8  9 10 11]\n",
      "\n",
      " Reveled  [ 0  1  2  3  4  5  6  7  8  9 10 11]\n",
      "[[ 0  4  8]\n",
      " [ 1  5  9]\n",
      " [ 2  6 10]\n",
      " [ 3  7 11]]\n"
     ]
    }
   ],
   "source": [
    "arr = np.arange(12)\n",
    "print(\"Original array \", arr)\n",
    "\n",
    "reshaped = arr.reshape((3,4))\n",
    "print(\"Reshaped array\", reshaped)\n",
    "\n",
    "flattened = reshaped.flatten()\n",
    "print(\"\\n Flattened \" , flattened)\n",
    "\n",
    "# ravel return view, instead of copy\n",
    "raveled = reshaped.ravel()\n",
    "print(\"\\n Reveled \" , raveled)\n",
    "\n",
    "transpose = reshaped.T\n",
    "print(\"\\n Transpose \" ,transpose)"
   ]
  },
  {
   "cell_type": "markdown",
   "id": "4d676a68",
   "metadata": {},
   "source": [
    "## Phase # 2\n"
   ]
  },
  {
   "cell_type": "markdown",
   "id": "5050561a",
   "metadata": {},
   "source": [
    "### Indexing & Slicing"
   ]
  },
  {
   "cell_type": "code",
   "execution_count": 10,
   "id": "9a4e77cf",
   "metadata": {},
   "outputs": [
    {
     "name": "stdout",
     "output_type": "stream",
     "text": [
      "Basic Slicing: 1\n",
      "Basic Slicing: [2 3 4 5]\n",
      "With Step: [2 4 6 8]\n",
      "Negative Indexing: 8\n"
     ]
    }
   ],
   "source": [
    "import numpy as np\n",
    "\n",
    "arrx = np.array([1,2,3,4,5,6,7,8,9,10])\n",
    "print(\"Basic Slicing:\", arrx[0])\n",
    "print(\"Basic Slicing:\", arrx[1:5])\n",
    "print(\"With Step:\", arrx[1:8:2])\n",
    "print(\"Negative Indexing:\", arrx[-3])\n"
   ]
  },
  {
   "cell_type": "code",
   "execution_count": 13,
   "id": "24b263ca",
   "metadata": {},
   "outputs": [
    {
     "name": "stdout",
     "output_type": "stream",
     "text": [
      "Specific element 7\n",
      "Entire row [5 6 7]\n",
      "Entire column [3 6 9]\n"
     ]
    }
   ],
   "source": [
    "arr_2d = np.array([[2,3,4], [5,6,7], [8,9,9]])\n",
    "print(\"Specific element\", arr_2d[1,2])\n",
    "print(\"Entire row\", arr_2d[1])\n",
    "print(\"Entire column\", arr_2d[:,1])"
   ]
  },
  {
   "cell_type": "markdown",
   "id": "1c97f7d2",
   "metadata": {},
   "source": [
    "#### Sorting array"
   ]
  },
  {
   "cell_type": "code",
   "execution_count": 20,
   "id": "04e003d1",
   "metadata": {},
   "outputs": [
    {
     "name": "stdout",
     "output_type": "stream",
     "text": [
      "Sorted Array [ 0  2  3  6  8 22 33]\n",
      "Sorted 2D Array by column: \n",
      " [[1 1]\n",
      " [2 2]\n",
      " [3 3]]\n",
      "Sorted 2D Array by row: \n",
      " [[1 3]\n",
      " [1 2]\n",
      " [2 3]]\n"
     ]
    }
   ],
   "source": [
    "unsorted = np.array([3,6,2,0, 8, 33, 22])\n",
    "print(\"Sorted Array\", np.sort(unsorted))\n",
    "\n",
    "unsorted_arr_2d = np.array([[3,1], [1,2], [2,3]])\n",
    "print(\"Sorted 2D Array by column: \\n\", np.sort(unsorted_arr_2d, axis=0)) #mostly used axis=0 sort by column (top to bottom)\n",
    "print(\"Sorted 2D Array by row: \\n\", np.sort(unsorted_arr_2d, axis=1))"
   ]
  },
  {
   "cell_type": "markdown",
   "id": "0c4d5405",
   "metadata": {},
   "source": [
    "### Filtering array"
   ]
  },
  {
   "cell_type": "code",
   "execution_count": null,
   "id": "fb6a5f22",
   "metadata": {},
   "outputs": [
    {
     "name": "stdout",
     "output_type": "stream",
     "text": [
      "Even Numbers [ 6  2  0  8 22]\n",
      "Numbers greated than 5:  [ 6  2  0  8 22]\n"
     ]
    }
   ],
   "source": [
    "numbers = np.array([3,6,2,0, 8, 33, 22])\n",
    "even_num = numbers[numbers % 2 == 0] \n",
    "print(\"Even Numbers\", even_num)\n",
    "\n",
    "# Filter with mask (evaluated expression)\n",
    "mask = numbers % 2 == 0\n",
    "print(\"Numbers greated than 5: \", numbers[mask])\n"
   ]
  },
  {
   "cell_type": "markdown",
   "id": "754bfdcd",
   "metadata": {},
   "source": [
    "### Fancy Indexing vs np.where()"
   ]
  },
  {
   "cell_type": "code",
   "execution_count": 35,
   "id": "7ea616d8",
   "metadata": {},
   "outputs": [
    {
     "name": "stdout",
     "output_type": "stream",
     "text": [
      "[3 2 8]\n",
      "NumPy Where:  [ 6  8 33 22] (array([1, 4, 5, 6]),)\n",
      "[  3  24   2   0  32 132  88]\n",
      "['false' 'true' 'false' 'false' 'true' 'true' 'true']\n"
     ]
    }
   ],
   "source": [
    "indices = [0, 2, 4]\n",
    "numbers = np.array([3,6,2,0, 8, 33, 22])\n",
    "print(numbers[indices])\n",
    "\n",
    "where_result = np.where(numbers > 5) # store filter elements index\n",
    "print(\"NumPy Where: \", numbers[where_result], where_result)\n",
    "\n",
    "\n",
    "condition_array = np.where(numbers > 5, numbers * 4, numbers) # not clear\n",
    "print(condition_array)\n",
    "\n",
    "# CONDITION ARRAY HOW ACTUALLY WORK LIKE BELOW \n",
    "# if(numbers > 5):\n",
    "#     numbers* 4\n",
    "# else\n",
    "#     numbers\n",
    "\n",
    "condition_array2 = np.where(numbers > 5, \"true\", \"false\")\n",
    "print(condition_array2)\n"
   ]
  },
  {
   "cell_type": "markdown",
   "id": "1003e7fa",
   "metadata": {},
   "source": [
    "### Adding and removing Data"
   ]
  },
  {
   "cell_type": "code",
   "execution_count": 10,
   "id": "a216b8c4",
   "metadata": {},
   "outputs": [
    {
     "name": "stdout",
     "output_type": "stream",
     "text": [
      "Addition:  [ 7  9 11 13 15]\n",
      "Combined Array:  [ 1  2  3  4  5  6  7  8  9 10]\n",
      "Deleted Array:  [1 2 4 5]\n"
     ]
    }
   ],
   "source": [
    "import numpy as np\n",
    "arr1 = np.array([1,2,3,4,5])\n",
    "arr2 = np.array([6,7,8,9,10])\n",
    "print(\"Addition: \", arr1 + arr2)\n",
    "\n",
    "combine = np.concatenate((arr1, arr2))\n",
    "print(\"Combined Array: \", combine)\n",
    "\n",
    "\n",
    "arr = np.array([1,2,3,4,5])\n",
    "deleted = np.delete(arr, 2) # delete index 2\n",
    "print(\"Deleted Array: \", deleted)"
   ]
  },
  {
   "cell_type": "markdown",
   "id": "0612bd5f",
   "metadata": {},
   "source": [
    "### Array compatibility"
   ]
  },
  {
   "cell_type": "code",
   "execution_count": 11,
   "id": "ea89ba86",
   "metadata": {},
   "outputs": [
    {
     "name": "stdout",
     "output_type": "stream",
     "text": [
      "Array Compatibility Shapes: False\n",
      "Original Array:\n",
      " [[1 2]\n",
      " [3 4]]\n",
      "Array with new row:\n",
      " [[1 2]\n",
      " [3 4]\n",
      " [5 6]]\n",
      "Array with new column:\n",
      " [[1 2 5]\n",
      " [3 4 6]]\n"
     ]
    }
   ],
   "source": [
    "a = np.array([1,2,3])\n",
    "b = np.array([4,5,4 ,6])\n",
    "c = np.array([7,8,9])\n",
    "\n",
    "print(\"Array Compatibility Shapes:\", a.shape == b.shape)\n",
    "\n",
    "original = np.array([[1, 2], [3, 4]])\n",
    "new_row = np.array([[5, 6]])\n",
    "with_new_row = np.vstack((original, new_row)) # v stack is used to stack arrays in sequence vertically (row wise) or add new row \n",
    "with_new_column = np.hstack((original, new_row.T)) # h stack is used to stack arrays in sequence horizontally (column wise) or add new column\n",
    "print(\"Original Array:\\n\", original)\n",
    "print(\"Array with new row:\\n\", with_new_row)\n",
    "print(\"Array with new column:\\n\", with_new_column)"
   ]
  },
  {
   "cell_type": "markdown",
   "id": "782cf998",
   "metadata": {},
   "source": [
    "## Phase # 3"
   ]
  },
  {
   "cell_type": "markdown",
   "id": "7b828830",
   "metadata": {},
   "source": [
    "### Advance operation with Business examples"
   ]
  },
  {
   "cell_type": "code",
   "execution_count": null,
   "id": "958733b9",
   "metadata": {},
   "outputs": [
    {
     "name": "stdout",
     "output_type": "stream",
     "text": [
      "Sales Analysis\n",
      "\n",
      "\n",
      " Sales data shape:  (5, 5)\n",
      "\n",
      " Sample data (first 2 rows):\n",
      " [[     1 150000 180000 220000 250000]\n",
      " [     2 120000 140000 160000 190000]\n",
      " [     3 200000 230000 260000 300000]]\n",
      "\n",
      " Total sales for each restaurant:\n",
      " [800000 610000 990000 900000 840000]\n",
      "\n",
      " Sum of all sales:  4140000\n",
      "\n",
      " Total sales each year:\n",
      " [ 810000  945000 1145000 1240000]\n",
      "\n",
      " Maximum sales for each restaurant:\n",
      " [250000 190000 300000 270000 265000]\n",
      "\n",
      " Minimum sales for each restaurant:\n",
      " [150000 120000 200000 180000 160000]\n",
      "\n",
      " Average sales for each restaurant:\n",
      " [200000. 152500. 247500. 225000. 210000.]\n",
      "\n",
      " Cumulative sales for each restaurant over the years:\n",
      " [[150000 330000 550000 800000]\n",
      " [120000 260000 420000 610000]\n",
      " [200000 430000 690000 990000]\n",
      " [180000 390000 630000 900000]\n",
      " [160000 345000 610000 840000]]\n"
     ]
    }
   ],
   "source": [
    "import numpy as np\n",
    "import matplotlib.pyplot as plt\n",
    "\n",
    "# Data structure: [restaurant_id, 2021, 2022, 2023, 2024]\n",
    "sales_data = np.array([\n",
    "    [1, 150000, 180000, 220000, 250000], # Paradise Biryani\n",
    "    [2, 120000, 140000, 160000, 190000], # Beijing Bites\n",
    "    [3, 200000, 230000, 260000, 300000], # Pizza Hub\n",
    "    [4, 180000, 210000, 240000, 270000], # Burger Point\n",
    "    [5, 160000, 185000, 265000, 230000]  # Chai Point\n",
    "])\n",
    "\n",
    "\n",
    "print(\"Sales Analysis\\n\")\n",
    "\n",
    "print(\"\\n Sales data shape: \", sales_data.shape)\n",
    "\n",
    "print(\"\\n Sample data (first 2 rows):\\n\", sales_data[:3])\n",
    "\n",
    "# Total sales for each restaurant over the years\n",
    "total_sales = np.sum(sales_data[:, 1:], axis=1)\n",
    "print(\"\\n Total sales for each restaurant:\\n\", total_sales)\n",
    "sum_of_all_sales = np.sum(total_sales)\n",
    "print(\"\\n Sum of all sales: \", sum_of_all_sales)\n",
    "\n",
    "\n",
    "# Total sales each year across all restaurants\n",
    "yearly_sales = np.sum(sales_data[:, 1:], axis=0)\n",
    "print(\"\\n Total sales each year:\\n\", yearly_sales)\n",
    "\n",
    "\n"
   ]
  },
  {
   "cell_type": "code",
   "execution_count": 27,
   "id": "552eee44",
   "metadata": {},
   "outputs": [
    {
     "name": "stdout",
     "output_type": "stream",
     "text": [
      "\n",
      " Maximum sales for each restaurant:\n",
      " [250000 190000 300000 270000 265000]\n",
      "\n",
      " Minimum sales for each restaurant:\n",
      " [150000 120000 200000 180000 160000]\n",
      "\n",
      " Average sales for each restaurant:\n",
      " [200000. 152500. 247500. 225000. 210000.]\n",
      "\n",
      " Cumulative sales for each restaurant over the years:\n",
      " [[150000 330000 550000 800000]\n",
      " [120000 260000 420000 610000]\n",
      " [200000 430000 690000 990000]\n",
      " [180000 390000 630000 900000]\n",
      " [160000 345000 610000 840000]]\n"
     ]
    }
   ],
   "source": [
    "# Maximum sales for each restaurant over the years\n",
    "max_sales = np.max(sales_data[:, 1:], axis=1)\n",
    "print(\"\\n Maximum sales for each restaurant:\\n\", max_sales)\n",
    "\n",
    "# Minimum sales for each restaurant over the years\n",
    "min_sales = np.min(sales_data[:, 1:], axis=1)\n",
    "print(\"\\n Minimum sales for each restaurant:\\n\", min_sales)\n",
    "\n",
    "# Average sales for each restaurant over the years\n",
    "avg_sales = np.mean(sales_data[:, 1:], axis=1)\n",
    "print(\"\\n Average sales for each restaurant:\\n\", avg_sales)\n",
    "\n",
    "# Sales cummulative sum for each restaurant over the years\n",
    "cumsum_sales = np.cumsum(sales_data[:, 1:], axis=1)\n",
    "print(\"\\n Cumulative sales for each restaurant over the years:\\n\", cumsum_sales)"
   ]
  },
  {
   "cell_type": "markdown",
   "id": "6f774dba",
   "metadata": {},
   "source": [
    "### vector operation\n"
   ]
  },
  {
   "cell_type": "code",
   "execution_count": 29,
   "id": "63b1be2c",
   "metadata": {},
   "outputs": [
    {
     "name": "stdout",
     "output_type": "stream",
     "text": [
      "Dot Product:  32\n",
      "Multiplication:  [ 4 10 18]\n",
      "Angle between vectors (radians):  0.2257261285527342\n",
      "Angle between vectors (degrees):  12.933154491899135\n"
     ]
    }
   ],
   "source": [
    "vector1 = np.array([1,2,3])\n",
    "vector2 = np.array([4,5,6])\n",
    "\n",
    "# dot product of two matrix\n",
    "dot_product = np.dot(vector1, vector2)\n",
    "print(\"Dot Product: \", dot_product)\n",
    "\n",
    "# multiplication of two matrix\n",
    "print(\"Multiplication: \", vector1 * vector2)\n",
    "\n",
    "# angle between two vectors\n",
    "magnitude_v1 = np.linalg.norm(vector1)\n",
    "magnitude_v2 = np.linalg.norm(vector2)\n",
    "cosine_angle = dot_product / (magnitude_v1 * magnitude_v2)\n",
    "angle = np.arccos(cosine_angle)\n",
    "print(\"Angle between vectors (radians): \", angle)\n",
    "print(\"Angle between vectors (degrees): \", np.degrees(angle))"
   ]
  },
  {
   "cell_type": "markdown",
   "id": "03a35825",
   "metadata": {},
   "source": [
    "### vectorization operation"
   ]
  },
  {
   "cell_type": "code",
   "execution_count": 32,
   "id": "36fe1c47",
   "metadata": {},
   "outputs": [
    {
     "name": "stdout",
     "output_type": "stream",
     "text": [
      "Vectorized Upper Case:\n",
      " ['BIRYANI' 'BURGER' 'PIZZA' 'CHAI' 'BEIJING']\n"
     ]
    }
   ],
   "source": [
    "# this is help to perform operation on each element of list/array once we make it vectorized\n",
    "\n",
    "res_data = np.array([\"biryani\", \"burger\", \"pizza\", \"chai\", \"beijing\"])\n",
    "vectorized_upper_func = np.vectorize(str.upper)\n",
    "\n",
    "print(\"Vectorized Upper Case:\\n\", vectorized_upper_func(res_data))"
   ]
  },
  {
   "cell_type": "code",
   "execution_count": null,
   "id": "3c976776",
   "metadata": {},
   "outputs": [],
   "source": []
  }
 ],
 "metadata": {
  "kernelspec": {
   "display_name": "venv",
   "language": "python",
   "name": "python3"
  },
  "language_info": {
   "codemirror_mode": {
    "name": "ipython",
    "version": 3
   },
   "file_extension": ".py",
   "mimetype": "text/x-python",
   "name": "python",
   "nbconvert_exporter": "python",
   "pygments_lexer": "ipython3",
   "version": "3.13.7"
  }
 },
 "nbformat": 4,
 "nbformat_minor": 5
}
