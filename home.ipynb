{
 "cells": [
  {
   "cell_type": "markdown",
   "id": "43a913b3",
   "metadata": {},
   "source": [
    "# Phase no. 1"
   ]
  },
  {
   "cell_type": "markdown",
   "id": "3d5e7d1b-e2d6-42ff-93aa-576f619315d4",
   "metadata": {},
   "source": [
    "### Arrays\n"
   ]
  },
  {
   "cell_type": "code",
   "execution_count": null,
   "id": "18fcd4c6",
   "metadata": {},
   "outputs": [
    {
     "name": "stdout",
     "output_type": "stream",
     "text": [
      "[1 2 3 4 5 6]\n",
      "[[1 3 4 5]\n",
      " [1 3 5 6]]\n"
     ]
    }
   ],
   "source": [
    "import numpy as np\n",
    "arr_1d = np.array([1,2,3,4,5,6])\n",
    "print(arr_1d)\n",
    "\n",
    "\n",
    "arr_2d = np.array([[1,3,4,5], [1,3,5,6]])\n",
    "print(arr_2d)\n",
    "\n",
    "\n"
   ]
  },
  {
   "cell_type": "code",
   "execution_count": null,
   "id": "1a9bd4ea",
   "metadata": {},
   "outputs": [
    {
     "name": "stdout",
     "output_type": "stream",
     "text": [
      "[1, 3, 5, 1, 3, 5]\n",
      "Num array mul:  [ 2  6 10]\n"
     ]
    }
   ],
   "source": [
    "py_list = [1, 3, 5]\n",
    "print(py_list * 2)\n",
    "\n",
    "np_array = np.array([1,3,5])\n",
    "print(\"Num array mul: \", np_array * 2) # here 2 is called scaler , in term of DS\n"
   ]
  },
  {
   "cell_type": "code",
   "execution_count": null,
   "id": "ee62242c",
   "metadata": {},
   "outputs": [
    {
     "name": "stdout",
     "output_type": "stream",
     "text": [
      "\n",
      " List operation time: 0.08052706718444824\n",
      "\n",
      " Numpy operation time: 0.0019545555114746094\n"
     ]
    }
   ],
   "source": [
    "import time\n",
    "\n",
    "start = time.time()\n",
    "py_list = [i*2 for i in range(1000000)]\n",
    "print(\"\\n List operation time:\", time.time() - start)\n",
    "\n",
    "start = time.time()\n",
    "np_array = np.arange(1000000)\n",
    "print(\"\\n Numpy operation time:\", time.time() - start) # numpy is too fast then py list"
   ]
  },
  {
   "cell_type": "code",
   "execution_count": null,
   "id": "c5393d37",
   "metadata": {},
   "outputs": [
    {
     "name": "stdout",
     "output_type": "stream",
     "text": [
      "zeros array:\n",
      " [[0. 0. 0.]\n",
      " [0. 0. 0.]\n",
      " [0. 0. 0.]]\n",
      "once array:\n",
      " [[1. 1. 1.]\n",
      " [1. 1. 1.]]\n",
      "full array:\n",
      " [[7 7 7]\n",
      " [7 7 7]]\n",
      "random array:\n",
      " [[0.35632503 0.89001508 0.25595599 0.99827046]\n",
      " [0.73814394 0.22676442 0.8978267  0.40740933]]\n",
      "sequence array:\n",
      " [ 0  2  4  6  8 10]\n"
     ]
    }
   ],
   "source": [
    "zeros = np.zeros([3, 3])\n",
    "print('zeros array:\\n', zeros)\n",
    "\n",
    "once = np.ones((2,3))\n",
    "print('once array:\\n', once)\n",
    "\n",
    "full = np.full((2,3), 7)\n",
    "print('full array:\\n', full)\n",
    "\n",
    "random = np.random.random((2,4))\n",
    "print('random array:\\n', random)\n",
    "\n",
    "sequence = np.arange(0, 11, 2) # range 0 to 10, and in b/w skip 1 if you give 2 like this np.arange(0, 11, 2)\n",
    "print('sequence array:\\n', sequence)"
   ]
  },
  {
   "cell_type": "markdown",
   "id": "08704329",
   "metadata": {},
   "source": [
    "### Vector, Matrix & Tensor\n"
   ]
  },
  {
   "cell_type": "code",
   "execution_count": 13,
   "id": "ae6c87ba",
   "metadata": {},
   "outputs": [
    {
     "name": "stdout",
     "output_type": "stream",
     "text": [
      "[1 3 4]\n",
      "[[2 3 5]\n",
      " [5 6 7]]\n",
      "[[[1 3]\n",
      "  [3 5]]\n",
      "\n",
      " [[5 3]\n",
      "  [9 5]]]\n"
     ]
    }
   ],
   "source": [
    "vector = np.array([1,3,4])\n",
    "print(vector)\n",
    "\n",
    "matrix = np.array([[2,3,5], [5,6,7]])\n",
    "print(matrix)\n",
    "\n",
    "tensor = np.array([[[1,3], [3,5]],\n",
    "                [[5,3], [9,5]]])\n",
    "print(tensor) # multi dimensional array is actual tensor\n"
   ]
  },
  {
   "cell_type": "markdown",
   "id": "b7db45f0",
   "metadata": {},
   "source": [
    "### Array properties"
   ]
  },
  {
   "cell_type": "code",
   "execution_count": 14,
   "id": "794683ab",
   "metadata": {},
   "outputs": [
    {
     "name": "stdout",
     "output_type": "stream",
     "text": [
      "Shape:  (3,)\n",
      "Dimension:  1\n",
      "Size/Length:  3\n",
      "Data types:  int64\n"
     ]
    }
   ],
   "source": [
    "arr = np.array([1,3,4])\n",
    "\n",
    "print(\"Shape: \", arr.shape)\n",
    "print(\"Dimension: \", arr.ndim)\n",
    "print(\"Size/Length: \", arr.size)\n",
    "print(\"Data types: \", arr.dtype)"
   ]
  },
  {
   "cell_type": "markdown",
   "id": "34d130b6",
   "metadata": {},
   "source": [
    "### Array Reshaping"
   ]
  },
  {
   "cell_type": "code",
   "execution_count": null,
   "id": "c7adcda3",
   "metadata": {},
   "outputs": [
    {
     "name": "stdout",
     "output_type": "stream",
     "text": [
      "Original array  [ 0  1  2  3  4  5  6  7  8  9 10 11]\n",
      "Reshaped array [[ 0  1  2  3]\n",
      " [ 4  5  6  7]\n",
      " [ 8  9 10 11]]\n",
      "\n",
      " Flattened  [ 0  1  2  3  4  5  6  7  8  9 10 11]\n",
      "\n",
      " Reveled  [ 0  1  2  3  4  5  6  7  8  9 10 11]\n",
      "[[ 0  4  8]\n",
      " [ 1  5  9]\n",
      " [ 2  6 10]\n",
      " [ 3  7 11]]\n"
     ]
    }
   ],
   "source": [
    "arr = np.arange(12)\n",
    "print(\"Original array \", arr)\n",
    "\n",
    "reshaped = arr.reshape((3,4))\n",
    "print(\"Reshaped array\", reshaped)\n",
    "\n",
    "flattened = reshaped.flatten()\n",
    "print(\"\\n Flattened \" , flattened)\n",
    "\n",
    "# ravel return view, instead of copy\n",
    "raveled = reshaped.ravel()\n",
    "print(\"\\n Reveled \" , raveled)\n",
    "\n",
    "transpose = reshaped.T\n",
    "print(\"\\n Transpose \" ,transpose)"
   ]
  }
 ],
 "metadata": {
  "kernelspec": {
   "display_name": "venv",
   "language": "python",
   "name": "python3"
  },
  "language_info": {
   "codemirror_mode": {
    "name": "ipython",
    "version": 3
   },
   "file_extension": ".py",
   "mimetype": "text/x-python",
   "name": "python",
   "nbconvert_exporter": "python",
   "pygments_lexer": "ipython3",
   "version": "3.13.7"
  }
 },
 "nbformat": 4,
 "nbformat_minor": 5
}
