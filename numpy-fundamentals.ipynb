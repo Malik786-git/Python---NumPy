{
 "cells": [
  {
   "cell_type": "markdown",
   "metadata": {
    "id": "lFF783PD7ypT"
   },
   "source": [
    "### What is numpy?\n",
    "\n",
    "NumPy is the fundamental package for scientific computing in Python. It is a Python library that provides a multidimensional array object and an assortment of routines for fast operations on arrays, including mathematical, logical, shape manipulation, sorting, selecting, I/O, discrete Fourier transforms, basic linear algebra, basic statistical operations, random simulation and much more.\n",
    "\n",
    "\n",
    "At the core of the NumPy package, is the ndarray object. This encapsulates n-dimensional arrays of homogeneous data types"
   ]
  },
  {
   "cell_type": "markdown",
   "metadata": {
    "id": "HPRzhmwiZkOP"
   },
   "source": [
    "### Numpy Arrays Vs Python Sequences\n",
    "\n",
    "- NumPy arrays have a fixed size at creation, unlike Python lists (which can grow dynamically). Changing the size of an ndarray will create a new array and delete the original.\n",
    "\n",
    "- The elements in a NumPy array are all required to be of the same data type, and thus will be the same size in memory.\n",
    "\n",
    "- NumPy arrays facilitate advanced mathematical and other types of operations on large numbers of data. Typically, such operations are executed more efficiently and with less code than is possible using Python’s built-in sequences.\n",
    "\n",
    "- A growing plethora of scientific and mathematical Python-based packages are using NumPy arrays; though these typically support Python-sequence input, they convert such input to NumPy arrays prior to processing, and they often output NumPy arrays."
   ]
  },
  {
   "cell_type": "markdown",
   "metadata": {
    "id": "0PyrZ724szaG"
   },
   "source": [
    "### Creating Numpy Arrays"
   ]
  },
  {
   "cell_type": "code",
   "execution_count": 3,
   "metadata": {
    "colab": {
     "base_uri": "https://localhost:8080/"
    },
    "executionInfo": {
     "elapsed": 31,
     "status": "ok",
     "timestamp": 1713689453741,
     "user": {
      "displayName": "ASMA QAISER",
      "userId": "04501391770862314177"
     },
     "user_tz": -300
    },
    "id": "V4AVNXrts3sL",
    "outputId": "522d94b0-d0d1-4797-d0a9-3dbd35707fba"
   },
   "outputs": [
    {
     "name": "stdout",
     "output_type": "stream",
     "text": [
      "[1 2 3 4 5]\n"
     ]
    }
   ],
   "source": [
    "# np.array\n",
    "import numpy as np\n",
    "\n",
    "a = np.array([1,2,3, 4, 5])\n",
    "print(a)"
   ]
  },
  {
   "cell_type": "code",
   "execution_count": 69,
   "metadata": {
    "colab": {
     "base_uri": "https://localhost:8080/"
    },
    "executionInfo": {
     "elapsed": 30,
     "status": "ok",
     "timestamp": 1713689453741,
     "user": {
      "displayName": "ASMA QAISER",
      "userId": "04501391770862314177"
     },
     "user_tz": -300
    },
    "id": "AAfxD1kCs6R5",
    "outputId": "4a5d063b-6eef-47b9-d39c-2b09d8cdd186"
   },
   "outputs": [
    {
     "name": "stdout",
     "output_type": "stream",
     "text": [
      "[[1 2 3]\n",
      " [4 5 6]]\n"
     ]
    }
   ],
   "source": [
    "# 2D and 3D\n",
    "b = np.array([[1,2,3],[4,5,6]])\n",
    "print(b)"
   ]
  },
  {
   "cell_type": "code",
   "execution_count": 4,
   "metadata": {
    "colab": {
     "base_uri": "https://localhost:8080/"
    },
    "executionInfo": {
     "elapsed": 29,
     "status": "ok",
     "timestamp": 1713689453741,
     "user": {
      "displayName": "ASMA QAISER",
      "userId": "04501391770862314177"
     },
     "user_tz": -300
    },
    "id": "MyrHdd6J6CrF",
    "outputId": "5f9d8ac9-86cc-48b5-e978-72debd4a7d7e"
   },
   "outputs": [
    {
     "name": "stdout",
     "output_type": "stream",
     "text": [
      "[[[1 2]\n",
      "  [3 4]]\n",
      "\n",
      " [[5 6]\n",
      "  [7 8]]\n",
      "\n",
      " [[5 6]\n",
      "  [7 8]]]\n"
     ]
    }
   ],
   "source": [
    "c = np.array([[[1,2],[3,4]],[[5,6],[7,8]], [[5,6],[7,8]]])\n",
    "print(c)"
   ]
  },
  {
   "cell_type": "code",
   "execution_count": 6,
   "metadata": {
    "colab": {
     "base_uri": "https://localhost:8080/"
    },
    "executionInfo": {
     "elapsed": 28,
     "status": "ok",
     "timestamp": 1713689453741,
     "user": {
      "displayName": "ASMA QAISER",
      "userId": "04501391770862314177"
     },
     "user_tz": -300
    },
    "id": "kg6_mqgbDFrF",
    "outputId": "e0f9b863-adfc-466a-b44f-c9c55d828ed5"
   },
   "outputs": [
    {
     "name": "stdout",
     "output_type": "stream",
     "text": [
      "(5,)\n",
      "(3, 2, 2)\n"
     ]
    }
   ],
   "source": [
    "#shape\n",
    "print(a.shape)\n",
    "# print(b.shape) # 2 is for rows and 3 is for cols\n",
    "print(c.shape)"
   ]
  },
  {
   "cell_type": "code",
   "execution_count": 7,
   "metadata": {
    "colab": {
     "base_uri": "https://localhost:8080/"
    },
    "executionInfo": {
     "elapsed": 28,
     "status": "ok",
     "timestamp": 1713689453741,
     "user": {
      "displayName": "ASMA QAISER",
      "userId": "04501391770862314177"
     },
     "user_tz": -300
    },
    "id": "FM8AwUOdFqC7",
    "outputId": "e2b2ed77-43f9-44c4-e292-6b278df69722"
   },
   "outputs": [
    {
     "data": {
      "text/plain": [
       "array([1., 2., 3.])"
      ]
     },
     "execution_count": 7,
     "metadata": {},
     "output_type": "execute_result"
    }
   ],
   "source": [
    "# dtype\n",
    "np.array([1,2,3],dtype=float)"
   ]
  },
  {
   "cell_type": "code",
   "execution_count": 73,
   "metadata": {
    "colab": {
     "base_uri": "https://localhost:8080/"
    },
    "executionInfo": {
     "elapsed": 27,
     "status": "ok",
     "timestamp": 1713689453741,
     "user": {
      "displayName": "ASMA QAISER",
      "userId": "04501391770862314177"
     },
     "user_tz": -300
    },
    "id": "bnYfQWAEDdmQ",
    "outputId": "b2561078-3253-456c-95ac-18cf0cc46d86"
   },
   "outputs": [
    {
     "data": {
      "text/plain": [
       "dtype('int64')"
      ]
     },
     "execution_count": 73,
     "metadata": {},
     "output_type": "execute_result"
    }
   ],
   "source": [
    "a.dtype"
   ]
  },
  {
   "cell_type": "code",
   "execution_count": 74,
   "metadata": {
    "colab": {
     "base_uri": "https://localhost:8080/"
    },
    "executionInfo": {
     "elapsed": 27,
     "status": "ok",
     "timestamp": 1713689453741,
     "user": {
      "displayName": "ASMA QAISER",
      "userId": "04501391770862314177"
     },
     "user_tz": -300
    },
    "id": "ZY187Au_s8vm",
    "outputId": "af0b4a17-f51d-47c9-8e6b-40616eecf63c"
   },
   "outputs": [
    {
     "data": {
      "text/plain": [
       "array([ 1,  2,  3,  4,  5,  6,  7,  8,  9, 10, 11, 12, 13, 14])"
      ]
     },
     "execution_count": 74,
     "metadata": {},
     "output_type": "execute_result"
    }
   ],
   "source": [
    "# np.arange\n",
    "# Create an array of values from 1 to 9 (exclusive)\n",
    "\n",
    "np.arange(1,15)"
   ]
  },
  {
   "cell_type": "code",
   "execution_count": 8,
   "metadata": {
    "colab": {
     "base_uri": "https://localhost:8080/"
    },
    "executionInfo": {
     "elapsed": 26,
     "status": "ok",
     "timestamp": 1713689453741,
     "user": {
      "displayName": "ASMA QAISER",
      "userId": "04501391770862314177"
     },
     "user_tz": -300
    },
    "id": "lbSvfoWHDtRm",
    "outputId": "7377a838-93be-47aa-f9ef-0cbdb514b5ac"
   },
   "outputs": [
    {
     "data": {
      "text/plain": [
       "array([1, 5, 9])"
      ]
     },
     "execution_count": 8,
     "metadata": {},
     "output_type": "execute_result"
    }
   ],
   "source": [
    "np.arange(1,10,4) # 2 is for step size"
   ]
  },
  {
   "cell_type": "code",
   "execution_count": 12,
   "metadata": {
    "colab": {
     "base_uri": "https://localhost:8080/"
    },
    "executionInfo": {
     "elapsed": 25,
     "status": "ok",
     "timestamp": 1713689453741,
     "user": {
      "displayName": "ASMA QAISER",
      "userId": "04501391770862314177"
     },
     "user_tz": -300
    },
    "id": "3Gc7BaJZwl7e",
    "outputId": "b9137ee5-e378-4809-cd1d-1a2f9735f764"
   },
   "outputs": [
    {
     "data": {
      "text/plain": [
       "array([[[0, 1],\n",
       "        [2, 3]],\n",
       "\n",
       "       [[4, 5],\n",
       "        [6, 7]]])"
      ]
     },
     "execution_count": 12,
     "metadata": {},
     "output_type": "execute_result"
    }
   ],
   "source": [
    "# with reshape\n",
    "np.arange(16)\n",
    "np.arange(8).reshape(2,2,2)\n"
   ]
  },
  {
   "cell_type": "code",
   "execution_count": 77,
   "metadata": {
    "colab": {
     "base_uri": "https://localhost:8080/"
    },
    "executionInfo": {
     "elapsed": 25,
     "status": "ok",
     "timestamp": 1713689453741,
     "user": {
      "displayName": "ASMA QAISER",
      "userId": "04501391770862314177"
     },
     "user_tz": -300
    },
    "id": "R2BYpYcGs-9l",
    "outputId": "b0d3d505-46c6-46bc-882c-ee81e63967c0"
   },
   "outputs": [
    {
     "data": {
      "text/plain": [
       "array([[1., 1., 1., 1.],\n",
       "       [1., 1., 1., 1.],\n",
       "       [1., 1., 1., 1.]])"
      ]
     },
     "execution_count": 77,
     "metadata": {},
     "output_type": "execute_result"
    }
   ],
   "source": [
    "# np.ones and np.zeros\n",
    "# in neural networks we can intialize the weights by using np.ones or np.zeros\n",
    "np.ones((3,4))"
   ]
  },
  {
   "cell_type": "code",
   "execution_count": 78,
   "metadata": {
    "colab": {
     "base_uri": "https://localhost:8080/"
    },
    "executionInfo": {
     "elapsed": 24,
     "status": "ok",
     "timestamp": 1713689453741,
     "user": {
      "displayName": "ASMA QAISER",
      "userId": "04501391770862314177"
     },
     "user_tz": -300
    },
    "id": "vOjv_Euj8HGR",
    "outputId": "44fa020e-5b6d-4b61-a6e2-81adeec687d6"
   },
   "outputs": [
    {
     "data": {
      "text/plain": [
       "array([[0., 0., 0., 0.],\n",
       "       [0., 0., 0., 0.],\n",
       "       [0., 0., 0., 0.]])"
      ]
     },
     "execution_count": 78,
     "metadata": {},
     "output_type": "execute_result"
    }
   ],
   "source": [
    "np.zeros((3,4))"
   ]
  },
  {
   "cell_type": "code",
   "execution_count": 79,
   "metadata": {
    "colab": {
     "base_uri": "https://localhost:8080/"
    },
    "executionInfo": {
     "elapsed": 24,
     "status": "ok",
     "timestamp": 1713689453741,
     "user": {
      "displayName": "ASMA QAISER",
      "userId": "04501391770862314177"
     },
     "user_tz": -300
    },
    "id": "fYEeYi7itCRM",
    "outputId": "b7546338-ecd4-48f7-865d-599cc7696d7d"
   },
   "outputs": [
    {
     "data": {
      "text/plain": [
       "array([[0.7005782 , 0.99022541, 0.21498014, 0.9962266 ],\n",
       "       [0.04073158, 0.77743092, 0.12399917, 0.04462532],\n",
       "       [0.64161668, 0.69327226, 0.62221391, 0.8766308 ]])"
      ]
     },
     "execution_count": 79,
     "metadata": {},
     "output_type": "execute_result"
    }
   ],
   "source": [
    "# np.random\n",
    "np.random.random((3,4))"
   ]
  },
  {
   "cell_type": "code",
   "execution_count": 13,
   "metadata": {
    "colab": {
     "base_uri": "https://localhost:8080/"
    },
    "executionInfo": {
     "elapsed": 23,
     "status": "ok",
     "timestamp": 1713689453741,
     "user": {
      "displayName": "ASMA QAISER",
      "userId": "04501391770862314177"
     },
     "user_tz": -300
    },
    "id": "vel7WrgltE3P",
    "outputId": "00c59bf8-c5c2-4af6-fc77-3f5cf5ce0ba6"
   },
   "outputs": [
    {
     "data": {
      "text/plain": [
       "array([-10,  -8,  -5,  -2,   1,   4,   7,  10])"
      ]
     },
     "execution_count": 13,
     "metadata": {},
     "output_type": "execute_result"
    }
   ],
   "source": [
    "# np.linspace\n",
    "np.linspace(-10,10,8,dtype=int) # provide three things, first one is the lower range, upper range, and the number of elements to linearly generate.\n",
    "#np.linspace(-10,10,10)"
   ]
  },
  {
   "cell_type": "code",
   "execution_count": 81,
   "metadata": {
    "colab": {
     "base_uri": "https://localhost:8080/"
    },
    "executionInfo": {
     "elapsed": 22,
     "status": "ok",
     "timestamp": 1713689453741,
     "user": {
      "displayName": "ASMA QAISER",
      "userId": "04501391770862314177"
     },
     "user_tz": -300
    },
    "id": "ewyMuXh1tJzi",
    "outputId": "f9aea3ca-6b60-430e-abb4-43fc2c658638"
   },
   "outputs": [
    {
     "data": {
      "text/plain": [
       "array([[1., 0., 0.],\n",
       "       [0., 1., 0.],\n",
       "       [0., 0., 1.]])"
      ]
     },
     "execution_count": 81,
     "metadata": {},
     "output_type": "execute_result"
    }
   ],
   "source": [
    "# np.identity\n",
    "#diagonal elements are 1 and rest of the elements are zeros\n",
    "np.identity(3)"
   ]
  },
  {
   "cell_type": "markdown",
   "metadata": {
    "id": "LphXpjZJtNyI"
   },
   "source": [
    "### Array Attributes"
   ]
  },
  {
   "cell_type": "code",
   "execution_count": 117,
   "metadata": {
    "colab": {
     "base_uri": "https://localhost:8080/"
    },
    "executionInfo": {
     "elapsed": 364,
     "status": "ok",
     "timestamp": 1713689472283,
     "user": {
      "displayName": "ASMA QAISER",
      "userId": "04501391770862314177"
     },
     "user_tz": -300
    },
    "id": "UXnB5dIEFOgD",
    "outputId": "9085025b-2635-4745-f11f-eff43cb23fd3"
   },
   "outputs": [
    {
     "data": {
      "text/plain": [
       "array([[[0, 1],\n",
       "        [2, 3]],\n",
       "\n",
       "       [[4, 5],\n",
       "        [6, 7]]])"
      ]
     },
     "execution_count": 117,
     "metadata": {},
     "output_type": "execute_result"
    }
   ],
   "source": [
    "a1 = np.arange(10)\n",
    "a2 = np.arange(12,dtype=float).reshape(3,4)\n",
    "a3 = np.arange(8).reshape(2,2,2)\n",
    "\n",
    "a3"
   ]
  },
  {
   "cell_type": "code",
   "execution_count": 118,
   "metadata": {
    "colab": {
     "base_uri": "https://localhost:8080/"
    },
    "executionInfo": {
     "elapsed": 2,
     "status": "ok",
     "timestamp": 1713689558907,
     "user": {
      "displayName": "ASMA QAISER",
      "userId": "04501391770862314177"
     },
     "user_tz": -300
    },
    "id": "qib4oDFptRKN",
    "outputId": "f3e15033-0a78-4db2-8968-9035b294c972"
   },
   "outputs": [
    {
     "data": {
      "text/plain": [
       "3"
      ]
     },
     "execution_count": 118,
     "metadata": {},
     "output_type": "execute_result"
    }
   ],
   "source": [
    "# ndim\n",
    "# It is used for dimension, 1 is 1D , 2 is for 2D and 3 is for 3D\n",
    "a3.ndim"
   ]
  },
  {
   "cell_type": "code",
   "execution_count": 119,
   "metadata": {
    "colab": {
     "base_uri": "https://localhost:8080/"
    },
    "executionInfo": {
     "elapsed": 387,
     "status": "ok",
     "timestamp": 1713689649991,
     "user": {
      "displayName": "ASMA QAISER",
      "userId": "04501391770862314177"
     },
     "user_tz": -300
    },
    "id": "InUvH8KGtSRv",
    "outputId": "7157ee90-6122-43b7-fac5-6a1cfb9558d2"
   },
   "outputs": [
    {
     "name": "stdout",
     "output_type": "stream",
     "text": [
      "(3, 4)\n"
     ]
    },
    {
     "data": {
      "text/plain": [
       "array([[ 0.,  1.,  2.,  3.],\n",
       "       [ 4.,  5.,  6.,  7.],\n",
       "       [ 8.,  9., 10., 11.]])"
      ]
     },
     "execution_count": 119,
     "metadata": {},
     "output_type": "execute_result"
    }
   ],
   "source": [
    "# shape\n",
    "# how many rows and cols in an array.\n",
    "print(a2.shape)\n",
    "a2\n",
    "#3D arrays is a combination of 2D array.\n",
    "#a3 has 2 elements(each element is of 2D array.)\n",
    "# and every 2d array shape is of 2,2"
   ]
  },
  {
   "cell_type": "code",
   "execution_count": 84,
   "metadata": {
    "colab": {
     "base_uri": "https://localhost:8080/"
    },
    "executionInfo": {
     "elapsed": 21,
     "status": "ok",
     "timestamp": 1713689453742,
     "user": {
      "displayName": "ASMA QAISER",
      "userId": "04501391770862314177"
     },
     "user_tz": -300
    },
    "id": "9Dko5610tT-Z",
    "outputId": "3fcead92-4504-479d-bddf-099ccf7480c3"
   },
   "outputs": [
    {
     "name": "stdout",
     "output_type": "stream",
     "text": [
      "12\n"
     ]
    },
    {
     "data": {
      "text/plain": [
       "array([[ 0.,  1.,  2.,  3.],\n",
       "       [ 4.,  5.,  6.,  7.],\n",
       "       [ 8.,  9., 10., 11.]])"
      ]
     },
     "execution_count": 84,
     "metadata": {},
     "output_type": "execute_result"
    }
   ],
   "source": [
    "# size\n",
    "# no. of elements in an array\n",
    "print(a2.size)\n",
    "a2"
   ]
  },
  {
   "cell_type": "code",
   "execution_count": 85,
   "metadata": {
    "colab": {
     "base_uri": "https://localhost:8080/"
    },
    "executionInfo": {
     "elapsed": 19,
     "status": "ok",
     "timestamp": 1713689453742,
     "user": {
      "displayName": "ASMA QAISER",
      "userId": "04501391770862314177"
     },
     "user_tz": -300
    },
    "id": "Pik7FgEVtXDj",
    "outputId": "f302d881-c985-42f3-8400-3cec8ef8b8f5"
   },
   "outputs": [
    {
     "name": "stdout",
     "output_type": "stream",
     "text": [
      "int64\n",
      "float64\n",
      "int64\n"
     ]
    }
   ],
   "source": [
    "# dtype\n",
    "print(a1.dtype)\n",
    "print(a2.dtype)\n",
    "print(a3.dtype)\n",
    "\n"
   ]
  },
  {
   "cell_type": "markdown",
   "metadata": {
    "id": "7Ase0eFWtcFl"
   },
   "source": [
    "### Changing Datatype"
   ]
  },
  {
   "cell_type": "code",
   "execution_count": 86,
   "metadata": {
    "colab": {
     "base_uri": "https://localhost:8080/"
    },
    "executionInfo": {
     "elapsed": 19,
     "status": "ok",
     "timestamp": 1713689453742,
     "user": {
      "displayName": "ASMA QAISER",
      "userId": "04501391770862314177"
     },
     "user_tz": -300
    },
    "id": "DZPEFqhotbFS",
    "outputId": "c311f5c9-15d4-4473-f925-db846bc1be78"
   },
   "outputs": [
    {
     "data": {
      "text/plain": [
       "array([[[0, 1],\n",
       "        [2, 3]],\n",
       "\n",
       "       [[4, 5],\n",
       "        [6, 7]]], dtype=int32)"
      ]
     },
     "execution_count": 86,
     "metadata": {},
     "output_type": "execute_result"
    }
   ],
   "source": [
    "# astype\n",
    "a3.astype(np.int32)"
   ]
  },
  {
   "cell_type": "markdown",
   "metadata": {
    "id": "k-y-aaV9u52l"
   },
   "source": [
    "### Array Operations"
   ]
  },
  {
   "cell_type": "code",
   "execution_count": 121,
   "metadata": {
    "colab": {
     "base_uri": "https://localhost:8080/"
    },
    "executionInfo": {
     "elapsed": 350,
     "status": "ok",
     "timestamp": 1713690093052,
     "user": {
      "displayName": "ASMA QAISER",
      "userId": "04501391770862314177"
     },
     "user_tz": -300
    },
    "id": "mIk8tk53HnOW",
    "outputId": "97322931-8b76-40bc-cd9b-a99cef54272b"
   },
   "outputs": [
    {
     "data": {
      "text/plain": [
       "array([[ 0,  1,  2,  3],\n",
       "       [ 4,  5,  6,  7],\n",
       "       [ 8,  9, 10, 11]])"
      ]
     },
     "execution_count": 121,
     "metadata": {},
     "output_type": "execute_result"
    }
   ],
   "source": [
    "a1 = np.arange(12).reshape(3,4)\n",
    "a2 = np.arange(12,24).reshape(3,4)\n",
    "\n",
    "a1"
   ]
  },
  {
   "cell_type": "code",
   "execution_count": 88,
   "metadata": {
    "colab": {
     "base_uri": "https://localhost:8080/"
    },
    "executionInfo": {
     "elapsed": 18,
     "status": "ok",
     "timestamp": 1713689453742,
     "user": {
      "displayName": "ASMA QAISER",
      "userId": "04501391770862314177"
     },
     "user_tz": -300
    },
    "id": "vtQrWQKD87Fn",
    "outputId": "76ece1ef-f329-4503-ba61-a51e494aafbe"
   },
   "outputs": [
    {
     "data": {
      "text/plain": [
       "array([[  0,   1,   4,   9],\n",
       "       [ 16,  25,  36,  49],\n",
       "       [ 64,  81, 100, 121]])"
      ]
     },
     "execution_count": 88,
     "metadata": {},
     "output_type": "execute_result"
    }
   ],
   "source": [
    "# scalar operations\n",
    "\n",
    "# arithmetic\n",
    "a1 ** 2"
   ]
  },
  {
   "cell_type": "code",
   "execution_count": 16,
   "metadata": {
    "colab": {
     "base_uri": "https://localhost:8080/"
    },
    "executionInfo": {
     "elapsed": 17,
     "status": "ok",
     "timestamp": 1713689453742,
     "user": {
      "displayName": "ASMA QAISER",
      "userId": "04501391770862314177"
     },
     "user_tz": -300
    },
    "id": "mCgPxTzQrtte",
    "outputId": "ab866df5-103f-4b17-d311-9c0e700fc957"
   },
   "outputs": [
    {
     "name": "stdout",
     "output_type": "stream",
     "text": [
      "[[12 13 14 15]\n",
      " [16 17 18 19]\n",
      " [20 21 22 23]]\n"
     ]
    },
    {
     "data": {
      "text/plain": [
       "array([[False, False, False,  True],\n",
       "       [False, False, False, False],\n",
       "       [False, False, False, False]])"
      ]
     },
     "execution_count": 16,
     "metadata": {},
     "output_type": "execute_result"
    }
   ],
   "source": [
    "# relational\n",
    "a2 = np.arange(12,24).reshape(3,4)\n",
    "print(a2)\n",
    "a2 == 15"
   ]
  },
  {
   "cell_type": "code",
   "execution_count": 90,
   "metadata": {
    "colab": {
     "base_uri": "https://localhost:8080/"
    },
    "executionInfo": {
     "elapsed": 17,
     "status": "ok",
     "timestamp": 1713689453742,
     "user": {
      "displayName": "ASMA QAISER",
      "userId": "04501391770862314177"
     },
     "user_tz": -300
    },
    "id": "E2S3xDRxrt5D",
    "outputId": "a5703de7-8833-4377-fe6f-635f7a1373d4"
   },
   "outputs": [
    {
     "data": {
      "text/plain": [
       "array([[                   0,                    1,                16384,\n",
       "                    14348907],\n",
       "       [          4294967296,         762939453125,      101559956668416,\n",
       "           11398895185373143],\n",
       "       [ 1152921504606846976, -1261475310744950487,  1864712049423024128,\n",
       "         6839173302027254275]])"
      ]
     },
     "execution_count": 90,
     "metadata": {},
     "output_type": "execute_result"
    }
   ],
   "source": [
    "# vector operations\n",
    "# arithmetic\n",
    "a1 ** a2"
   ]
  },
  {
   "cell_type": "markdown",
   "metadata": {
    "id": "2pYZJMrAuvuv"
   },
   "source": [
    "### Indexing and Slicing"
   ]
  },
  {
   "cell_type": "code",
   "execution_count": 91,
   "metadata": {
    "colab": {
     "base_uri": "https://localhost:8080/"
    },
    "executionInfo": {
     "elapsed": 16,
     "status": "ok",
     "timestamp": 1713689453742,
     "user": {
      "displayName": "ASMA QAISER",
      "userId": "04501391770862314177"
     },
     "user_tz": -300
    },
    "id": "v1LynzX9u2R-",
    "outputId": "3b984223-0feb-4629-a0c7-c35d8f8943f1"
   },
   "outputs": [
    {
     "data": {
      "text/plain": [
       "array([[[0, 1],\n",
       "        [2, 3]],\n",
       "\n",
       "       [[4, 5],\n",
       "        [6, 7]]])"
      ]
     },
     "execution_count": 91,
     "metadata": {},
     "output_type": "execute_result"
    }
   ],
   "source": [
    "a1 = np.arange(10)\n",
    "a2 = np.arange(12).reshape(3,4)\n",
    "a3 = np.arange(8).reshape(2,2,2)\n",
    "\n",
    "a3"
   ]
  },
  {
   "cell_type": "code",
   "execution_count": 92,
   "metadata": {
    "colab": {
     "base_uri": "https://localhost:8080/"
    },
    "executionInfo": {
     "elapsed": 15,
     "status": "ok",
     "timestamp": 1713689453742,
     "user": {
      "displayName": "ASMA QAISER",
      "userId": "04501391770862314177"
     },
     "user_tz": -300
    },
    "id": "qyFbwR9Ku2YE",
    "outputId": "9f1d69db-123b-4948-fef4-e58593887a38"
   },
   "outputs": [
    {
     "data": {
      "text/plain": [
       "array([0, 1, 2, 3, 4, 5, 6, 7, 8, 9])"
      ]
     },
     "execution_count": 92,
     "metadata": {},
     "output_type": "execute_result"
    }
   ],
   "source": [
    "a1"
   ]
  },
  {
   "cell_type": "code",
   "execution_count": 93,
   "metadata": {
    "colab": {
     "base_uri": "https://localhost:8080/"
    },
    "executionInfo": {
     "elapsed": 15,
     "status": "ok",
     "timestamp": 1713689453742,
     "user": {
      "displayName": "ASMA QAISER",
      "userId": "04501391770862314177"
     },
     "user_tz": -300
    },
    "id": "eWXAKzN-HpnC",
    "outputId": "b919ede6-0bd6-4aa2-ed35-33ec883d67e2"
   },
   "outputs": [
    {
     "data": {
      "text/plain": [
       "9"
      ]
     },
     "execution_count": 93,
     "metadata": {},
     "output_type": "execute_result"
    }
   ],
   "source": [
    "a1[0] # to access the first element\n",
    "a1[-1] # to access the last element\n",
    "# two types of indexing. Positive and negative\n",
    "# Positive indexing starts from 0 and move from left to right."
   ]
  },
  {
   "cell_type": "code",
   "execution_count": 94,
   "metadata": {
    "colab": {
     "base_uri": "https://localhost:8080/"
    },
    "executionInfo": {
     "elapsed": 14,
     "status": "ok",
     "timestamp": 1713689453742,
     "user": {
      "displayName": "ASMA QAISER",
      "userId": "04501391770862314177"
     },
     "user_tz": -300
    },
    "id": "Q2IbBdEXu2a5",
    "outputId": "20894afa-c03b-4da7-c68f-1ab266390779"
   },
   "outputs": [
    {
     "data": {
      "text/plain": [
       "array([[ 0,  1,  2,  3],\n",
       "       [ 4,  5,  6,  7],\n",
       "       [ 8,  9, 10, 11]])"
      ]
     },
     "execution_count": 94,
     "metadata": {},
     "output_type": "execute_result"
    }
   ],
   "source": [
    "a2"
   ]
  },
  {
   "cell_type": "code",
   "execution_count": 95,
   "metadata": {
    "colab": {
     "base_uri": "https://localhost:8080/"
    },
    "executionInfo": {
     "elapsed": 14,
     "status": "ok",
     "timestamp": 1713689453742,
     "user": {
      "displayName": "ASMA QAISER",
      "userId": "04501391770862314177"
     },
     "user_tz": -300
    },
    "id": "ksF_MqmFITmB",
    "outputId": "12010b25-8fe1-4a70-d8ba-f6624c6223b2"
   },
   "outputs": [
    {
     "data": {
      "text/plain": [
       "5"
      ]
     },
     "execution_count": 95,
     "metadata": {},
     "output_type": "execute_result"
    }
   ],
   "source": [
    "# to extract 5 from this 2d array. what to do?\n",
    "a2[1,1]"
   ]
  },
  {
   "cell_type": "code",
   "execution_count": 96,
   "metadata": {
    "colab": {
     "base_uri": "https://localhost:8080/"
    },
    "executionInfo": {
     "elapsed": 13,
     "status": "ok",
     "timestamp": 1713689453742,
     "user": {
      "displayName": "ASMA QAISER",
      "userId": "04501391770862314177"
     },
     "user_tz": -300
    },
    "id": "GIR5YhVzu2dc",
    "outputId": "3f60256f-22ce-4527-9c0b-1fc83b2a6d3a"
   },
   "outputs": [
    {
     "data": {
      "text/plain": [
       "4"
      ]
     },
     "execution_count": 96,
     "metadata": {},
     "output_type": "execute_result"
    }
   ],
   "source": [
    "a2[1,0]"
   ]
  },
  {
   "cell_type": "code",
   "execution_count": 97,
   "metadata": {
    "colab": {
     "base_uri": "https://localhost:8080/"
    },
    "executionInfo": {
     "elapsed": 12,
     "status": "ok",
     "timestamp": 1713689453742,
     "user": {
      "displayName": "ASMA QAISER",
      "userId": "04501391770862314177"
     },
     "user_tz": -300
    },
    "id": "IbM-KNY3HP9-",
    "outputId": "9bb55ba5-486d-4b62-af65-a6977ef96660"
   },
   "outputs": [
    {
     "data": {
      "text/plain": [
       "array([[[0, 1],\n",
       "        [2, 3]],\n",
       "\n",
       "       [[4, 5],\n",
       "        [6, 7]]])"
      ]
     },
     "execution_count": 97,
     "metadata": {},
     "output_type": "execute_result"
    }
   ],
   "source": [
    "a3"
   ]
  },
  {
   "cell_type": "code",
   "execution_count": 98,
   "metadata": {
    "colab": {
     "base_uri": "https://localhost:8080/"
    },
    "executionInfo": {
     "elapsed": 12,
     "status": "ok",
     "timestamp": 1713689453742,
     "user": {
      "displayName": "ASMA QAISER",
      "userId": "04501391770862314177"
     },
     "user_tz": -300
    },
    "id": "xG7HU0RgHQD-",
    "outputId": "3a3cbb34-1c46-4979-f6ff-668c18287ab6"
   },
   "outputs": [
    {
     "data": {
      "text/plain": [
       "5"
      ]
     },
     "execution_count": 98,
     "metadata": {},
     "output_type": "execute_result"
    }
   ],
   "source": [
    "a3[1,0,1]"
   ]
  },
  {
   "cell_type": "code",
   "execution_count": 99,
   "metadata": {
    "colab": {
     "base_uri": "https://localhost:8080/"
    },
    "executionInfo": {
     "elapsed": 11,
     "status": "ok",
     "timestamp": 1713689453742,
     "user": {
      "displayName": "ASMA QAISER",
      "userId": "04501391770862314177"
     },
     "user_tz": -300
    },
    "id": "3EhcikSWHQKO",
    "outputId": "e2e4770d-cc50-4607-f113-1e5ce22eb70b"
   },
   "outputs": [
    {
     "data": {
      "text/plain": [
       "6"
      ]
     },
     "execution_count": 99,
     "metadata": {},
     "output_type": "execute_result"
    }
   ],
   "source": [
    "a3[1,1,0]"
   ]
  },
  {
   "cell_type": "code",
   "execution_count": 124,
   "metadata": {
    "colab": {
     "base_uri": "https://localhost:8080/"
    },
    "executionInfo": {
     "elapsed": 356,
     "status": "ok",
     "timestamp": 1713690674792,
     "user": {
      "displayName": "ASMA QAISER",
      "userId": "04501391770862314177"
     },
     "user_tz": -300
    },
    "id": "_cgU2A52HQO0",
    "outputId": "60807be9-ca03-4ba9-b364-303449a20c1c"
   },
   "outputs": [
    {
     "data": {
      "text/plain": [
       "array([[12, 13, 14, 15],\n",
       "       [16, 17, 18, 19],\n",
       "       [20, 21, 22, 23]])"
      ]
     },
     "execution_count": 124,
     "metadata": {},
     "output_type": "execute_result"
    }
   ],
   "source": [
    "a2"
   ]
  },
  {
   "cell_type": "code",
   "execution_count": 125,
   "metadata": {
    "colab": {
     "base_uri": "https://localhost:8080/"
    },
    "executionInfo": {
     "elapsed": 472,
     "status": "ok",
     "timestamp": 1713690677711,
     "user": {
      "displayName": "ASMA QAISER",
      "userId": "04501391770862314177"
     },
     "user_tz": -300
    },
    "id": "HnFM0Wa5IMw2",
    "outputId": "89087679-18d3-4e47-a659-a4509716e880"
   },
   "outputs": [
    {
     "data": {
      "text/plain": [
       "array([16, 17, 18, 19])"
      ]
     },
     "execution_count": 125,
     "metadata": {},
     "output_type": "execute_result"
    }
   ],
   "source": [
    "#slicing is used to extract multiple elements\n",
    "# we want to extarct first row from a2.\n",
    "# first specify which row u want, colon is for all elements\n",
    "a2[1,]"
   ]
  },
  {
   "cell_type": "code",
   "execution_count": 17,
   "metadata": {
    "colab": {
     "base_uri": "https://localhost:8080/"
    },
    "executionInfo": {
     "elapsed": 10,
     "status": "ok",
     "timestamp": 1713689453742,
     "user": {
      "displayName": "ASMA QAISER",
      "userId": "04501391770862314177"
     },
     "user_tz": -300
    },
    "id": "4nVMXg2OJpQC",
    "outputId": "1ae0ad2a-c239-41d6-de57-f8847b2b04a4"
   },
   "outputs": [
    {
     "data": {
      "text/plain": [
       "array([14, 18, 22])"
      ]
     },
     "execution_count": 17,
     "metadata": {},
     "output_type": "execute_result"
    }
   ],
   "source": [
    "a2[:,2] # all row elements from 3rd col"
   ]
  },
  {
   "cell_type": "code",
   "execution_count": 20,
   "metadata": {
    "colab": {
     "base_uri": "https://localhost:8080/"
    },
    "executionInfo": {
     "elapsed": 472,
     "status": "ok",
     "timestamp": 1713690771179,
     "user": {
      "displayName": "ASMA QAISER",
      "userId": "04501391770862314177"
     },
     "user_tz": -300
    },
    "id": "hViAIIJr7fCi",
    "outputId": "16a31953-4ee8-4a94-eccf-e3f37be57a72"
   },
   "outputs": [
    {
     "data": {
      "text/plain": [
       "array([[12, 13, 14, 15],\n",
       "       [16, 17, 18, 19],\n",
       "       [20, 21, 22, 23]])"
      ]
     },
     "execution_count": 20,
     "metadata": {},
     "output_type": "execute_result"
    }
   ],
   "source": [
    "a2"
   ]
  },
  {
   "cell_type": "code",
   "execution_count": 21,
   "metadata": {
    "colab": {
     "base_uri": "https://localhost:8080/"
    },
    "executionInfo": {
     "elapsed": 353,
     "status": "ok",
     "timestamp": 1713690878221,
     "user": {
      "displayName": "ASMA QAISER",
      "userId": "04501391770862314177"
     },
     "user_tz": -300
    },
    "id": "6I9wEaSOJzsS",
    "outputId": "0ae1412d-3a48-4e43-ec1d-96a7e33da07c"
   },
   "outputs": [
    {
     "data": {
      "text/plain": [
       "array([[17, 18],\n",
       "       [21, 22]])"
      ]
     },
     "execution_count": 21,
     "metadata": {},
     "output_type": "execute_result"
    }
   ],
   "source": [
    "# extract 17,18,21,22 from a2\n",
    "# which rows and which cols.\n",
    "# 1: as we need 1st and 2nd row\n",
    "# for col we need 1 and 2nd col\n",
    "# 1:3 , 3 is exclusive so 1 and 2 col elements will be extracted.\n",
    "a2[1:, 1:3]"
   ]
  },
  {
   "cell_type": "code",
   "execution_count": 22,
   "metadata": {
    "colab": {
     "base_uri": "https://localhost:8080/"
    },
    "executionInfo": {
     "elapsed": 10,
     "status": "ok",
     "timestamp": 1713689453743,
     "user": {
      "displayName": "ASMA QAISER",
      "userId": "04501391770862314177"
     },
     "user_tz": -300
    },
    "id": "grDjxkF_Ktnx",
    "outputId": "da4f7cf4-4c1b-4e28-e0ae-39a8891b5d74"
   },
   "outputs": [
    {
     "data": {
      "text/plain": [
       "array([[13, 14],\n",
       "       [17, 18]])"
      ]
     },
     "execution_count": 22,
     "metadata": {},
     "output_type": "execute_result"
    }
   ],
   "source": [
    "a2[0:2,1:3]"
   ]
  },
  {
   "cell_type": "code",
   "execution_count": 105,
   "metadata": {
    "colab": {
     "base_uri": "https://localhost:8080/"
    },
    "executionInfo": {
     "elapsed": 9,
     "status": "ok",
     "timestamp": 1713689453743,
     "user": {
      "displayName": "ASMA QAISER",
      "userId": "04501391770862314177"
     },
     "user_tz": -300
    },
    "id": "SDWOK56EIM3n",
    "outputId": "a698fa1a-7311-4641-aa3a-251cbf99416a"
   },
   "outputs": [
    {
     "data": {
      "text/plain": [
       "array([[ 0,  1,  2,  3],\n",
       "       [ 4,  5,  6,  7],\n",
       "       [ 8,  9, 10, 11]])"
      ]
     },
     "execution_count": 105,
     "metadata": {},
     "output_type": "execute_result"
    }
   ],
   "source": [
    "a2"
   ]
  },
  {
   "cell_type": "code",
   "execution_count": 106,
   "metadata": {
    "colab": {
     "base_uri": "https://localhost:8080/"
    },
    "executionInfo": {
     "elapsed": 9,
     "status": "ok",
     "timestamp": 1713689453743,
     "user": {
      "displayName": "ASMA QAISER",
      "userId": "04501391770862314177"
     },
     "user_tz": -300
    },
    "id": "Z-24y62tK7KO",
    "outputId": "12fdd206-7077-49ab-d8f2-8d3c0803a8e1"
   },
   "outputs": [
    {
     "data": {
      "text/plain": [
       "array([[[ 0,  1,  2],\n",
       "        [ 3,  4,  5],\n",
       "        [ 6,  7,  8]],\n",
       "\n",
       "       [[ 9, 10, 11],\n",
       "        [12, 13, 14],\n",
       "        [15, 16, 17]],\n",
       "\n",
       "       [[18, 19, 20],\n",
       "        [21, 22, 23],\n",
       "        [24, 25, 26]]])"
      ]
     },
     "execution_count": 106,
     "metadata": {},
     "output_type": "execute_result"
    }
   ],
   "source": [
    "a3 = np.arange(27).reshape(3,3,3)\n",
    "a3"
   ]
  },
  {
   "cell_type": "code",
   "execution_count": 107,
   "metadata": {
    "colab": {
     "base_uri": "https://localhost:8080/"
    },
    "executionInfo": {
     "elapsed": 8,
     "status": "ok",
     "timestamp": 1713689453743,
     "user": {
      "displayName": "ASMA QAISER",
      "userId": "04501391770862314177"
     },
     "user_tz": -300
    },
    "id": "DB1bM8NCMTub",
    "outputId": "db2a8959-be2c-4c16-e2d3-a5c87e287e9b"
   },
   "outputs": [
    {
     "data": {
      "text/plain": [
       "array([12, 13, 14])"
      ]
     },
     "execution_count": 107,
     "metadata": {},
     "output_type": "execute_result"
    }
   ],
   "source": [
    "a3[1,1,:]"
   ]
  },
  {
   "cell_type": "code",
   "execution_count": 108,
   "metadata": {
    "colab": {
     "base_uri": "https://localhost:8080/"
    },
    "executionInfo": {
     "elapsed": 8,
     "status": "ok",
     "timestamp": 1713689453743,
     "user": {
      "displayName": "ASMA QAISER",
      "userId": "04501391770862314177"
     },
     "user_tz": -300
    },
    "id": "gPOgRWfNLxPF",
    "outputId": "243b2b02-a1d3-4333-cf7d-db8c9c2144c5"
   },
   "outputs": [
    {
     "data": {
      "text/plain": [
       "array([[22, 23],\n",
       "       [25, 26]])"
      ]
     },
     "execution_count": 108,
     "metadata": {},
     "output_type": "execute_result"
    }
   ],
   "source": [
    "a3[2,1:,1:]"
   ]
  },
  {
   "cell_type": "code",
   "execution_count": 109,
   "metadata": {
    "colab": {
     "base_uri": "https://localhost:8080/"
    },
    "executionInfo": {
     "elapsed": 7,
     "status": "ok",
     "timestamp": 1713689453743,
     "user": {
      "displayName": "ASMA QAISER",
      "userId": "04501391770862314177"
     },
     "user_tz": -300
    },
    "id": "S3OJJAMXK7RV",
    "outputId": "6f707e24-60b2-4ca7-dc41-80c872fadeda"
   },
   "outputs": [
    {
     "data": {
      "text/plain": [
       "array([3, 4, 5])"
      ]
     },
     "execution_count": 109,
     "metadata": {},
     "output_type": "execute_result"
    }
   ],
   "source": [
    "a3[0,1,:]"
   ]
  },
  {
   "cell_type": "code",
   "execution_count": 109,
   "metadata": {
    "executionInfo": {
     "elapsed": 7,
     "status": "ok",
     "timestamp": 1713689453743,
     "user": {
      "displayName": "ASMA QAISER",
      "userId": "04501391770862314177"
     },
     "user_tz": -300
    },
    "id": "av7DbeP5K7Xf"
   },
   "outputs": [],
   "source": []
  },
  {
   "cell_type": "code",
   "execution_count": 109,
   "metadata": {
    "executionInfo": {
     "elapsed": 6,
     "status": "ok",
     "timestamp": 1713689453743,
     "user": {
      "displayName": "ASMA QAISER",
      "userId": "04501391770862314177"
     },
     "user_tz": -300
    },
    "id": "MTLPaOobK7dc"
   },
   "outputs": [],
   "source": []
  },
  {
   "cell_type": "code",
   "execution_count": 109,
   "metadata": {
    "executionInfo": {
     "elapsed": 6,
     "status": "ok",
     "timestamp": 1713689453743,
     "user": {
      "displayName": "ASMA QAISER",
      "userId": "04501391770862314177"
     },
     "user_tz": -300
    },
    "id": "0StTG7ycK7kQ"
   },
   "outputs": [],
   "source": []
  },
  {
   "cell_type": "code",
   "execution_count": 109,
   "metadata": {
    "executionInfo": {
     "elapsed": 6,
     "status": "ok",
     "timestamp": 1713689453743,
     "user": {
      "displayName": "ASMA QAISER",
      "userId": "04501391770862314177"
     },
     "user_tz": -300
    },
    "id": "mkUuhK9UK7pA"
   },
   "outputs": [],
   "source": []
  },
  {
   "cell_type": "code",
   "execution_count": 109,
   "metadata": {
    "executionInfo": {
     "elapsed": 6,
     "status": "ok",
     "timestamp": 1713689453743,
     "user": {
      "displayName": "ASMA QAISER",
      "userId": "04501391770862314177"
     },
     "user_tz": -300
    },
    "id": "JyonJsQVK7tm"
   },
   "outputs": [],
   "source": []
  },
  {
   "cell_type": "markdown",
   "metadata": {
    "id": "dUv9qM1yuIKJ"
   },
   "source": [
    "### Iterating"
   ]
  },
  {
   "cell_type": "code",
   "execution_count": 110,
   "metadata": {
    "colab": {
     "base_uri": "https://localhost:8080/"
    },
    "executionInfo": {
     "elapsed": 1249,
     "status": "ok",
     "timestamp": 1713689454986,
     "user": {
      "displayName": "ASMA QAISER",
      "userId": "04501391770862314177"
     },
     "user_tz": -300
    },
    "id": "lNgaCad6uKhm",
    "outputId": "3bd9123d-7ba4-4848-aa42-362a3b0e83e0"
   },
   "outputs": [
    {
     "name": "stdout",
     "output_type": "stream",
     "text": [
      "0\n",
      "1\n",
      "2\n",
      "3\n",
      "4\n",
      "5\n",
      "6\n",
      "7\n",
      "8\n",
      "9\n"
     ]
    }
   ],
   "source": [
    "a1\n",
    "\n",
    "for i in a1:\n",
    "  print(i)"
   ]
  },
  {
   "cell_type": "code",
   "execution_count": 111,
   "metadata": {
    "colab": {
     "base_uri": "https://localhost:8080/"
    },
    "executionInfo": {
     "elapsed": 2,
     "status": "ok",
     "timestamp": 1713689454986,
     "user": {
      "displayName": "ASMA QAISER",
      "userId": "04501391770862314177"
     },
     "user_tz": -300
    },
    "id": "jNIsE0YFM6ZN",
    "outputId": "4f9437b0-917e-4839-df86-524537407299"
   },
   "outputs": [
    {
     "data": {
      "text/plain": [
       "array([[ 0,  1,  2,  3],\n",
       "       [ 4,  5,  6,  7],\n",
       "       [ 8,  9, 10, 11]])"
      ]
     },
     "execution_count": 111,
     "metadata": {},
     "output_type": "execute_result"
    }
   ],
   "source": [
    "a2"
   ]
  },
  {
   "cell_type": "code",
   "execution_count": 112,
   "metadata": {
    "colab": {
     "base_uri": "https://localhost:8080/"
    },
    "executionInfo": {
     "elapsed": 2,
     "status": "ok",
     "timestamp": 1713689454986,
     "user": {
      "displayName": "ASMA QAISER",
      "userId": "04501391770862314177"
     },
     "user_tz": -300
    },
    "id": "B2Hk-zAONHTY",
    "outputId": "87b0d005-2678-4ead-a866-7469cdee84db"
   },
   "outputs": [
    {
     "name": "stdout",
     "output_type": "stream",
     "text": [
      "[0 1 2 3]\n",
      "[4 5 6 7]\n",
      "[ 8  9 10 11]\n"
     ]
    }
   ],
   "source": [
    "for i in a2:\n",
    "  print(i)"
   ]
  },
  {
   "cell_type": "code",
   "execution_count": 113,
   "metadata": {
    "colab": {
     "base_uri": "https://localhost:8080/"
    },
    "executionInfo": {
     "elapsed": 2,
     "status": "ok",
     "timestamp": 1713689454986,
     "user": {
      "displayName": "ASMA QAISER",
      "userId": "04501391770862314177"
     },
     "user_tz": -300
    },
    "id": "8hfuC98qM-hC",
    "outputId": "946581fd-3ebb-42f9-a8aa-fc6f02204ce9"
   },
   "outputs": [
    {
     "data": {
      "text/plain": [
       "array([[[ 0,  1,  2],\n",
       "        [ 3,  4,  5],\n",
       "        [ 6,  7,  8]],\n",
       "\n",
       "       [[ 9, 10, 11],\n",
       "        [12, 13, 14],\n",
       "        [15, 16, 17]],\n",
       "\n",
       "       [[18, 19, 20],\n",
       "        [21, 22, 23],\n",
       "        [24, 25, 26]]])"
      ]
     },
     "execution_count": 113,
     "metadata": {},
     "output_type": "execute_result"
    }
   ],
   "source": [
    "a3"
   ]
  },
  {
   "cell_type": "code",
   "execution_count": 114,
   "metadata": {
    "colab": {
     "base_uri": "https://localhost:8080/"
    },
    "executionInfo": {
     "elapsed": 2,
     "status": "ok",
     "timestamp": 1713689454986,
     "user": {
      "displayName": "ASMA QAISER",
      "userId": "04501391770862314177"
     },
     "user_tz": -300
    },
    "id": "DsYEnw2ONOIy",
    "outputId": "f4c44b5f-5537-4c2d-c64a-017aa7497a95"
   },
   "outputs": [
    {
     "name": "stdout",
     "output_type": "stream",
     "text": [
      "[[0 1 2]\n",
      " [3 4 5]\n",
      " [6 7 8]]\n",
      "[[ 9 10 11]\n",
      " [12 13 14]\n",
      " [15 16 17]]\n",
      "[[18 19 20]\n",
      " [21 22 23]\n",
      " [24 25 26]]\n"
     ]
    }
   ],
   "source": [
    "for i in a3:\n",
    "  print(i)"
   ]
  },
  {
   "cell_type": "code",
   "execution_count": 24,
   "metadata": {
    "colab": {
     "base_uri": "https://localhost:8080/"
    },
    "executionInfo": {
     "elapsed": 2,
     "status": "ok",
     "timestamp": 1713689454986,
     "user": {
      "displayName": "ASMA QAISER",
      "userId": "04501391770862314177"
     },
     "user_tz": -300
    },
    "id": "IuRJ1QiRNZRM",
    "outputId": "1ff247dc-58ac-485e-c051-7996d19ceb22"
   },
   "outputs": [
    {
     "ename": "NameError",
     "evalue": "name 'a3' is not defined",
     "output_type": "error",
     "traceback": [
      "\u001b[31m---------------------------------------------------------------------------\u001b[39m",
      "\u001b[31mNameError\u001b[39m                                 Traceback (most recent call last)",
      "\u001b[36mCell\u001b[39m\u001b[36m \u001b[39m\u001b[32mIn[24]\u001b[39m\u001b[32m, line 1\u001b[39m\n\u001b[32m----> \u001b[39m\u001b[32m1\u001b[39m \u001b[38;5;28;01mfor\u001b[39;00m i \u001b[38;5;129;01min\u001b[39;00m np.nditer(\u001b[43ma3\u001b[49m):\n\u001b[32m      2\u001b[39m   \u001b[38;5;28mprint\u001b[39m(i)\n",
      "\u001b[31mNameError\u001b[39m: name 'a3' is not defined"
     ]
    }
   ],
   "source": [
    "for i in np.nditer(a3):\n",
    "  print(i)"
   ]
  },
  {
   "cell_type": "code",
   "execution_count": null,
   "metadata": {},
   "outputs": [
    {
     "ename": "NameError",
     "evalue": "name 'a3' is not defined",
     "output_type": "error",
     "traceback": [
      "\u001b[31m---------------------------------------------------------------------------\u001b[39m",
      "\u001b[31mNameError\u001b[39m                                 Traceback (most recent call last)",
      "\u001b[36mCell\u001b[39m\u001b[36m \u001b[39m\u001b[32mIn[25]\u001b[39m\u001b[32m, line 1\u001b[39m\n\u001b[32m----> \u001b[39m\u001b[32m1\u001b[39m np.nditer(\u001b[43ma3\u001b[49m)\n",
      "\u001b[31mNameError\u001b[39m: name 'a3' is not defined"
     ]
    }
   ],
   "source": []
  }
 ],
 "metadata": {
  "colab": {
   "collapsed_sections": [
    "dUv9qM1yuIKJ"
   ],
   "provenance": [
    {
     "file_id": "1GEkNfxnCPfzX8TCymkZJvWbkpGKZRgiK",
     "timestamp": 1713675504820
    }
   ]
  },
  "kernelspec": {
   "display_name": "venv",
   "language": "python",
   "name": "python3"
  },
  "language_info": {
   "codemirror_mode": {
    "name": "ipython",
    "version": 3
   },
   "file_extension": ".py",
   "mimetype": "text/x-python",
   "name": "python",
   "nbconvert_exporter": "python",
   "pygments_lexer": "ipython3",
   "version": "3.13.7"
  }
 },
 "nbformat": 4,
 "nbformat_minor": 0
}
